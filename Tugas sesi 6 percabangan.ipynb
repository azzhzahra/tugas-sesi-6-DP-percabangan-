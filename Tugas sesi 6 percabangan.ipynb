{
 "cells": [
  {
   "cell_type": "markdown",
   "id": "bea90f61",
   "metadata": {},
   "source": [
    "1.Sebuah wahana bermain 'Disney Island' akan memberikan tarif sesuai dengan tinggi dan umur anak dengan ketentuan sebagai berikut:\n",
    "\n",
    "Umur kurang dari 2 tahun: Tampilkan 'Dilarang masuk'\n",
    "\n",
    "Umur kurang dari 4 tahun: Rp 30.000. Jika tinggi anak umur 2-3 tahun melebihi 70 cm maka tarif akan bertambah 10.000\n",
    "\n",
    "Umur kurang dari 7 tahun: Rp 40.000. Jika tinggi anak umur 4-6 tahun melebih 120 cm maka tarif akan bertambah 15.000\n",
    "\n",
    "Umur kurang dari 10 tahun: Rp 50.000. Jika tinggi anak umur 8-9 tahun melebih 150 cm maka tarif akan bertambah 20.000\n",
    "\n",
    "Umur 10 tahun keatas: Rp 80.000\n",
    "\n",
    "Buatlah program untuk menampilkan tarif harga sesuai umur dan tinggi seorang anak!"
   ]
  },
  {
   "cell_type": "code",
   "execution_count": 10,
   "id": "6e2e3778",
   "metadata": {},
   "outputs": [
    {
     "name": "stdout",
     "output_type": "stream",
     "text": [
      "masukan usia: 3\n",
      "masukan tinggi: 70\n",
      "untuk usia 3 tahun dengan tinggi 70 cm dengan harga tiket rp. 30.000\n"
     ]
    }
   ],
   "source": [
    "usia = int(input(\"masukan usia: \"))\n",
    "tinggi = int(input(\"masukan tinggi: \"))\n",
    "\n",
    "if usia < 2:\n",
    "    print(\"dilarang masuk\")\n",
    "elif usia < 4:\n",
    "    if (tinggi <= 70):\n",
    "        print(\"untuk usia\",usia,\"tahun dengan tinggi\",tinggi,\"cm dengan harga tiket rp. 30.000\")\n",
    "    else: \n",
    "        print(\"untuk usia\",usia,\"tahun dengan tinggi\",tinggi,\"cm dengan harga tiket rp.\",30000 + 10000)\n",
    "elif usia < 7:\n",
    "    if (tinggi <=120):\n",
    "        print(\"untuk usia\",usia,\"tahun dengan tinggi\",tinggi,\"cm dengan harga tiket rp. 40.000\")\n",
    "    else:\n",
    "        print(\"untuk usia\",usia,\"tahun dengan tinggi\",tinggi,\"cm dengan harga tiket rp.\",40000 + 15000)\n",
    "elif usia < 10:\n",
    "    if (tinggi <= 150):\n",
    "        print(\"untuk usia\",usia,\"tahun dengan tinggi\",tinggi,\"cm dengan harga tiket rp. 50.000\")\n",
    "    else:\n",
    "        print(\"untuk usia\",usia,\"tahun dengan tinggi\",tinggi,\"cm dengan harga tiket rp.\",50000 + 20000)\n",
    "else:\n",
    "    if (usia >= 10):\n",
    "        print(\"untuk usia\",usia,\"tahun dengan tinggi\",tinggi,\"cm dengan harga tiket rp. 80.000\")\n",
    "        "
   ]
  },
  {
   "cell_type": "markdown",
   "id": "f9e6159d",
   "metadata": {},
   "source": [
    "2.Terdapat sebuah jurnal yang menuliskan teorinya bahwa olahraga dapat membakar kalori yang terkandung dalam tubuh manusia. Hal tersebut berbanding lurus dengan lama waktu yang dilakukan. Berikut ini adalah beberapa teori tersebut:\n",
    "\n",
    "Olahraga lari membakar 60 kalori setiap 5 menit\n",
    "\n",
    "Olahraga push-up membakar 200 kalori setiap 30 menit\n",
    "\n",
    "Olahraga plank membakar 5 kalori selama 1 menit\n",
    "\n",
    "Buatlah program berdasarkan uraian tersebut untuk menghitung berapa jumlah kalori yang terbakar setelah melakukan aktivitas olahraga tersebut dengan ketentuan setiap orang boleh melakukan aktivitasnya lebih dari 1 (satu).\n"
   ]
  },
  {
   "cell_type": "code",
   "execution_count": 1,
   "id": "7976c11a",
   "metadata": {},
   "outputs": [
    {
     "name": "stdout",
     "output_type": "stream",
     "text": [
      "Apakah kamu melakukan olahraga lari?ya\n",
      "Berapa menit? 28\n",
      "Apakah kamu melakukan olahraga push-up?ya\n",
      "Berapa menit? 12\n",
      "Apakah kamu melakukan olahraga plank?ya\n",
      "Berapa menit? 3\n",
      "\n",
      "Kalori yang terbakar dari tubuhmu adalah 431 kalori\n"
     ]
    }
   ],
   "source": [
    "kalori = 0\n",
    "\n",
    "lari = input(\"Apakah kamu melakukan olahraga lari?\")\n",
    "if (lari == \"ya\"):\n",
    "    menit = int(input(\"Berapa menit? \"))\n",
    "    kalori += menit * (60 / 5)\n",
    "\n",
    "pushUp = input(\"Apakah kamu melakukan olahraga push-up?\")\n",
    "if (pushUp == \"ya\"):\n",
    "    menit = int(input(\"Berapa menit? \"))\n",
    "    kalori += menit * (200 / 30)\n",
    "    \n",
    "plank = input(\"Apakah kamu melakukan olahraga plank?\")\n",
    "if (plank == \"ya\"):\n",
    "    menit = int(input(\"Berapa menit? \"))\n",
    "    kalori += menit * 5\n",
    "\n",
    "kalori = int(kalori)\n",
    "\n",
    "if (kalori > 0):\n",
    "    print(f\"\\nKalori yang terbakar dari tubuhmu adalah {kalori} kalori\")\n",
    "else:\n",
    "    print(\"\\nTidak ada kalori yang terbakar, kamu tidak berolahraga :(\")"
   ]
  },
  {
   "cell_type": "code",
   "execution_count": null,
   "id": "57c30e83",
   "metadata": {},
   "outputs": [],
   "source": []
  }
 ],
 "metadata": {
  "kernelspec": {
   "display_name": "Python 3 (ipykernel)",
   "language": "python",
   "name": "python3"
  },
  "language_info": {
   "codemirror_mode": {
    "name": "ipython",
    "version": 3
   },
   "file_extension": ".py",
   "mimetype": "text/x-python",
   "name": "python",
   "nbconvert_exporter": "python",
   "pygments_lexer": "ipython3",
   "version": "3.9.12"
  }
 },
 "nbformat": 4,
 "nbformat_minor": 5
}
